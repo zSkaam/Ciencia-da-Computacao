{
 "cells": [
  {
   "cell_type": "code",
   "execution_count": 4,
   "id": "9af6fd2a-9f91-470a-82db-85a9fefdeeb6",
   "metadata": {},
   "outputs": [
    {
     "name": "stdout",
     "output_type": "stream",
     "text": [
      "de            11\n",
      "e              7\n",
      "dados          6\n",
      "é              4\n",
      "que            3\n",
      "              ..\n",
      "com            1\n",
      "possa          1\n",
      "ser            1\n",
      "igualmente     1\n",
      "adorável       1\n",
      "Name: count, Length: 68, dtype: int64\n"
     ]
    }
   ],
   "source": [
    "import pandas as pd\n",
    "import re\n",
    "def contar_palavras(texto):\n",
    "    palavras = re.findall(r\"[\\w']+\", texto.lower())\n",
    "    series = pd.Series(palavras)\n",
    "    contagem = series.value_counts()\n",
    "    return contagem\n",
    "import os\n",
    "arquivo = 'arquivo.txt'\n",
    "if not os.path.exists(arquivo):\n",
    "    print(f\"Arquivo '{arquivo}' não encontrado!\")\n",
    "else:\n",
    "    with open(arquivo, 'r', encoding='utf-8') as f:\n",
    "        \n",
    "        texto = f.read()\n",
    "    resultado = contar_palavras(texto)\n",
    "    print(resultado)\n",
    "resultado.to_csv('resultado.csv', encoding='utf-8')"
   ]
  },
  {
   "cell_type": "code",
   "execution_count": 5,
   "id": "a86640a3-a441-471e-aa49-4c9fdbe39457",
   "metadata": {},
   "outputs": [
    {
     "name": "stdout",
     "output_type": "stream",
     "text": [
      "Collecting wordcloud\n",
      "  Downloading wordcloud-1.9.4-cp313-cp313-win_amd64.whl.metadata (3.5 kB)\n",
      "Requirement already satisfied: numpy>=1.6.1 in c:\\users\\aluno\\appdata\\local\\programs\\python\\python313\\lib\\site-packages (from wordcloud) (2.3.3)\n",
      "Requirement already satisfied: pillow in c:\\users\\aluno\\appdata\\local\\programs\\python\\python313\\lib\\site-packages (from wordcloud) (11.3.0)\n",
      "Requirement already satisfied: matplotlib in c:\\users\\aluno\\appdata\\local\\programs\\python\\python313\\lib\\site-packages (from wordcloud) (3.10.6)\n",
      "Requirement already satisfied: contourpy>=1.0.1 in c:\\users\\aluno\\appdata\\local\\programs\\python\\python313\\lib\\site-packages (from matplotlib->wordcloud) (1.3.3)\n",
      "Requirement already satisfied: cycler>=0.10 in c:\\users\\aluno\\appdata\\local\\programs\\python\\python313\\lib\\site-packages (from matplotlib->wordcloud) (0.12.1)\n",
      "Requirement already satisfied: fonttools>=4.22.0 in c:\\users\\aluno\\appdata\\local\\programs\\python\\python313\\lib\\site-packages (from matplotlib->wordcloud) (4.59.2)\n",
      "Requirement already satisfied: kiwisolver>=1.3.1 in c:\\users\\aluno\\appdata\\local\\programs\\python\\python313\\lib\\site-packages (from matplotlib->wordcloud) (1.4.9)\n",
      "Requirement already satisfied: packaging>=20.0 in c:\\users\\aluno\\appdata\\local\\programs\\python\\python313\\lib\\site-packages (from matplotlib->wordcloud) (25.0)\n",
      "Requirement already satisfied: pyparsing>=2.3.1 in c:\\users\\aluno\\appdata\\local\\programs\\python\\python313\\lib\\site-packages (from matplotlib->wordcloud) (3.2.3)\n",
      "Requirement already satisfied: python-dateutil>=2.7 in c:\\users\\aluno\\appdata\\local\\programs\\python\\python313\\lib\\site-packages (from matplotlib->wordcloud) (2.9.0.post0)\n",
      "Requirement already satisfied: six>=1.5 in c:\\users\\aluno\\appdata\\local\\programs\\python\\python313\\lib\\site-packages (from python-dateutil>=2.7->matplotlib->wordcloud) (1.17.0)\n",
      "Downloading wordcloud-1.9.4-cp313-cp313-win_amd64.whl (300 kB)\n",
      "Installing collected packages: wordcloud\n",
      "Successfully installed wordcloud-1.9.4\n"
     ]
    }
   ],
   "source": [
    "!pip install wordcloud"
   ]
  },
  {
   "cell_type": "code",
   "execution_count": 9,
   "id": "03e3fdc0-0b0e-43d4-87c4-032afcb98881",
   "metadata": {},
   "outputs": [
    {
     "name": "stdout",
     "output_type": "stream",
     "text": [
      "           quantidade\n",
      "palavra              \n",
      "NaN             count\n",
      "de                 11\n",
      "e                   7\n",
      "dados               6\n",
      "é                   4\n",
      "...               ...\n",
      "com                 1\n",
      "possa               1\n",
      "ser                 1\n",
      "igualmente          1\n",
      "adorável            1\n",
      "\n",
      "[69 rows x 1 columns]\n"
     ]
    }
   ],
   "source": [
    "df = pd.read_csv('resultado.csv', header=None, names=['palavra', 'quantidade'], index_col=0)\n",
    "print(df)"
   ]
  },
  {
   "cell_type": "code",
   "execution_count": null,
   "id": "dc96140e-e0ed-45ed-9819-5da214557785",
   "metadata": {},
   "outputs": [],
   "source": []
  }
 ],
 "metadata": {
  "kernelspec": {
   "display_name": "Python 3 (ipykernel)",
   "language": "python",
   "name": "python3"
  },
  "language_info": {
   "codemirror_mode": {
    "name": "ipython",
    "version": 3
   },
   "file_extension": ".py",
   "mimetype": "text/x-python",
   "name": "python",
   "nbconvert_exporter": "python",
   "pygments_lexer": "ipython3",
   "version": "3.13.7"
  }
 },
 "nbformat": 4,
 "nbformat_minor": 5
}
