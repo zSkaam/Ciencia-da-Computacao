{
 "cells": [
  {
   "cell_type": "code",
   "execution_count": 2,
   "id": "6dc6c78e-6712-4fa4-b892-684a9949360b",
   "metadata": {},
   "outputs": [
    {
     "name": "stdout",
     "output_type": "stream",
     "text": [
      "0    10\n",
      "1    20\n",
      "2    30\n",
      "3    40\n",
      "4    50\n",
      "5    60\n",
      "6    70\n",
      "7    80\n",
      "8    90\n",
      "dtype: int64\n"
     ]
    }
   ],
   "source": [
    "import pandas as pd\n",
    "\n",
    "s = pd.Series([10, 20, 30, 40, 50, 60, 70, 80, 90])\n",
    "\n",
    "print(s) #cria umna coluna com o \"series\""
   ]
  },
  {
   "cell_type": "code",
   "execution_count": 3,
   "id": "70739342-ff82-4baa-b332-77782a9a1802",
   "metadata": {},
   "outputs": [
    {
     "name": "stdout",
     "output_type": "stream",
     "text": [
      "     Nome  Idade\n",
      "0     Ana     25\n",
      "1   Bruno     30\n",
      "2  Danilo     21\n",
      "3  Maicon     33\n",
      "4    Luan     28\n"
     ]
    }
   ],
   "source": [
    "df = pd.DataFrame({\n",
    "    \"Nome\":[\"Ana\", \"Bruno\", \"Danilo\",\"Maicon\",\"Luan\"],\n",
    "    \"Idade\":[25, 30, 21, 33, 28]\n",
    "})\n",
    "print(df) #Cria uma tabela com o \"dataframe\""
   ]
  },
  {
   "cell_type": "code",
   "execution_count": 5,
   "id": "848dd1fc-2770-485e-8acc-8a5d26b09023",
   "metadata": {},
   "outputs": [
    {
     "data": {
      "text/html": [
       "<div>\n",
       "<style scoped>\n",
       "    .dataframe tbody tr th:only-of-type {\n",
       "        vertical-align: middle;\n",
       "    }\n",
       "\n",
       "    .dataframe tbody tr th {\n",
       "        vertical-align: top;\n",
       "    }\n",
       "\n",
       "    .dataframe thead th {\n",
       "        text-align: right;\n",
       "    }\n",
       "</style>\n",
       "<table border=\"1\" class=\"dataframe\">\n",
       "  <thead>\n",
       "    <tr style=\"text-align: right;\">\n",
       "      <th></th>\n",
       "      <th>Nome</th>\n",
       "      <th>Idade</th>\n",
       "    </tr>\n",
       "  </thead>\n",
       "  <tbody>\n",
       "    <tr>\n",
       "      <th>0</th>\n",
       "      <td>Ana</td>\n",
       "      <td>25</td>\n",
       "    </tr>\n",
       "    <tr>\n",
       "      <th>1</th>\n",
       "      <td>Bruno</td>\n",
       "      <td>30</td>\n",
       "    </tr>\n",
       "  </tbody>\n",
       "</table>\n",
       "</div>"
      ],
      "text/plain": [
       "    Nome  Idade\n",
       "0    Ana     25\n",
       "1  Bruno     30"
      ]
     },
     "execution_count": 5,
     "metadata": {},
     "output_type": "execute_result"
    }
   ],
   "source": [
    "df.head(2) #Busca os primeiros nomes (segundo o numero que o usuário quiser coolocar)"
   ]
  },
  {
   "cell_type": "code",
   "execution_count": 6,
   "id": "bc9a7b33-d236-4f23-a779-8369e389ec36",
   "metadata": {},
   "outputs": [
    {
     "data": {
      "text/html": [
       "<div>\n",
       "<style scoped>\n",
       "    .dataframe tbody tr th:only-of-type {\n",
       "        vertical-align: middle;\n",
       "    }\n",
       "\n",
       "    .dataframe tbody tr th {\n",
       "        vertical-align: top;\n",
       "    }\n",
       "\n",
       "    .dataframe thead th {\n",
       "        text-align: right;\n",
       "    }\n",
       "</style>\n",
       "<table border=\"1\" class=\"dataframe\">\n",
       "  <thead>\n",
       "    <tr style=\"text-align: right;\">\n",
       "      <th></th>\n",
       "      <th>Nome</th>\n",
       "      <th>Idade</th>\n",
       "    </tr>\n",
       "  </thead>\n",
       "  <tbody>\n",
       "    <tr>\n",
       "      <th>3</th>\n",
       "      <td>Maicon</td>\n",
       "      <td>33</td>\n",
       "    </tr>\n",
       "    <tr>\n",
       "      <th>4</th>\n",
       "      <td>Luan</td>\n",
       "      <td>28</td>\n",
       "    </tr>\n",
       "  </tbody>\n",
       "</table>\n",
       "</div>"
      ],
      "text/plain": [
       "     Nome  Idade\n",
       "3  Maicon     33\n",
       "4    Luan     28"
      ]
     },
     "execution_count": 6,
     "metadata": {},
     "output_type": "execute_result"
    }
   ],
   "source": [
    "df.tail(2) #Busca os últimos nomes (segundo o numero que o usuário quiser coolocar)\n"
   ]
  },
  {
   "cell_type": "code",
   "execution_count": 8,
   "id": "6e5bef3e-23e7-45a2-b25a-952d2eaa27b0",
   "metadata": {},
   "outputs": [
    {
     "name": "stdout",
     "output_type": "stream",
     "text": [
      "0       Ana\n",
      "1     Bruno\n",
      "2    Danilo\n",
      "3    Maicon\n",
      "4      Luan\n",
      "Name: Nome, dtype: object\n"
     ]
    }
   ],
   "source": [
    "print(df[\"Nome\"]) #Retorna apenas a coluna Nome"
   ]
  },
  {
   "cell_type": "code",
   "execution_count": null,
   "id": "8121ad80-7ac2-422a-a5fc-e8ed3c61371f",
   "metadata": {},
   "outputs": [],
   "source": []
  }
 ],
 "metadata": {
  "kernelspec": {
   "display_name": "Python 3 (ipykernel)",
   "language": "python",
   "name": "python3"
  },
  "language_info": {
   "codemirror_mode": {
    "name": "ipython",
    "version": 3
   },
   "file_extension": ".py",
   "mimetype": "text/x-python",
   "name": "python",
   "nbconvert_exporter": "python",
   "pygments_lexer": "ipython3",
   "version": "3.13.7"
  }
 },
 "nbformat": 4,
 "nbformat_minor": 5
}
