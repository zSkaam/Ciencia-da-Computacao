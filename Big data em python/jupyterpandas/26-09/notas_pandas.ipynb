{
 "cells": [
  {
   "cell_type": "code",
   "execution_count": 3,
   "id": "cfa5c643-cb3d-4037-b0a7-4cfb2be0257b",
   "metadata": {},
   "outputs": [
    {
     "name": "stdout",
     "output_type": "stream",
     "text": [
      "Series:\n",
      " 0     2\n",
      "1     4\n",
      "2     6\n",
      "3     8\n",
      "4    10\n",
      "5    12\n",
      "dtype: int64\n"
     ]
    }
   ],
   "source": [
    "import pandas as pd\n",
    "\n",
    "s = pd.Series([2, 4, 6, 8, 10, 12])\n",
    "\n",
    "print(\"Series:\\n\", s)"
   ]
  },
  {
   "cell_type": "code",
   "execution_count": 5,
   "id": "1b16ab01-5063-4285-a518-c080af968d06",
   "metadata": {},
   "outputs": [
    {
     "name": "stdout",
     "output_type": "stream",
     "text": [
      "\n",
      "Base de Dados:\n",
      "       Nome  Idade  Notas\n",
      "0     João     20    6.8\n",
      "1      Ana     25    8.5\n",
      "2    Pedro     26    4.1\n",
      "3  Gabriel     38    7.2\n"
     ]
    }
   ],
   "source": [
    "dados = {\n",
    "    \"Nome\":[\"João\", \"Ana\", \"Pedro\", \"Gabriel\"],\n",
    "    \"Idade\":[20, 25, 26, 38],\n",
    "    \"Notas\":[6.8, 8.5, 4.1, 7.2]\n",
    "}\n",
    "\n",
    "df = pd.DataFrame(dados)\n",
    "\n",
    "print(\"\\nBase de Dados:\\n\", df)\n",
    "#Cria um dataframe simples"
   ]
  },
  {
   "cell_type": "code",
   "execution_count": 9,
   "id": "5fbdcd0b-0660-4216-8a80-47f9ba672283",
   "metadata": {},
   "outputs": [
    {
     "name": "stdout",
     "output_type": "stream",
     "text": [
      "Coluna Nome:\n",
      " 0       João\n",
      "1        Ana\n",
      "2      Pedro\n",
      "3    Gabriel\n",
      "Name: Nome, dtype: object\n",
      "\n",
      "Primeiras 2 linhas:\n",
      "    Nome  Idade  Notas\n",
      "0  João     20    6.8\n",
      "1   Ana     25    8.5\n",
      "\n",
      "Última linhas:\n",
      "       Nome  Idade  Notas\n",
      "3  Gabriel     38    7.2\n"
     ]
    }
   ],
   "source": [
    "print(\"Coluna Nome:\\n\", df[\"Nome\"])\n",
    "print(\"\\nPrimeiras 2 linhas:\\n\", df.head(2))\n",
    "print(\"\\nÚltima linhas:\\n\", df.tail(1))"
   ]
  },
  {
   "cell_type": "code",
   "execution_count": 8,
   "id": "50ebef86-56db-4d36-a898-615235e1aeb6",
   "metadata": {},
   "outputs": [
    {
     "name": "stdout",
     "output_type": "stream",
     "text": [
      "Média das Idades: 27.25\n",
      "Nota máxima: 8.5\n",
      "Nota mínima: 4.1\n",
      "Resumo estatístico:\n",
      "            Idade     Notas\n",
      "count   4.000000  4.000000\n",
      "mean   27.250000  6.650000\n",
      "std     7.632169  1.848423\n",
      "min    20.000000  4.100000\n",
      "25%    23.750000  6.125000\n",
      "50%    25.500000  7.000000\n",
      "75%    29.000000  7.525000\n",
      "max    38.000000  8.500000\n"
     ]
    }
   ],
   "source": [
    "print(\"Média das Idades:\", df[\"Idade\"].mean())\n",
    "print(\"Nota máxima:\", df[\"Notas\"].max())\n",
    "print(\"Nota mínima:\", df[\"Notas\"].min())\n",
    "print(\"Resumo estatístico:\\n\", df.describe())      "
   ]
  },
  {
   "cell_type": "code",
   "execution_count": 12,
   "id": "944174f0-7998-47c8-a684-7770166e6545",
   "metadata": {},
   "outputs": [
    {
     "name": "stdout",
     "output_type": "stream",
     "text": [
      "Alunos aprovados:\n",
      "       Nome  Idade  Notas\n",
      "0     João     20    6.8\n",
      "1      Ana     25    8.5\n",
      "3  Gabriel     38    7.2\n",
      "\n",
      "Pessoas com menos de 30 anos:\n",
      "     Nome  Idade  Notas\n",
      "0   João     20    6.8\n",
      "1    Ana     25    8.5\n",
      "2  Pedro     26    4.1\n",
      "\n",
      "Alunos reprovados:\n",
      "     Nome  Idade  Notas\n",
      "2  Pedro     26    4.1\n"
     ]
    }
   ],
   "source": [
    "aprovados = df[df[\"Notas\"] > 6]\n",
    "\n",
    "print(\"Alunos aprovados:\\n\", aprovados)\n",
    "\n",
    "jovens = df[df[\"Idade\"] < 30]\n",
    "print(\"\\nPessoas com menos de 30 anos:\\n\", jovens)\n",
    "\n",
    "reprovados = df[df[\"Notas\"] < 6]\n",
    "\n",
    "print(\"\\nAlunos reprovados:\\n\", reprovados)\n"
   ]
  },
  {
   "cell_type": "code",
   "execution_count": 13,
   "id": "2f29ae38-3c4f-4d01-8990-d6367834d9af",
   "metadata": {},
   "outputs": [
    {
     "name": "stdout",
     "output_type": "stream",
     "text": [
      "DataFrame atualizado:\n",
      "       Nome  Idade  Notas   Situação\n",
      "0     João     20    6.8   Aprovado\n",
      "1      Ana     25    8.5   Aprovado\n",
      "2    Pedro     26    4.1  Reprovado\n",
      "3  Gabriel     38    7.2   Aprovado\n"
     ]
    }
   ],
   "source": [
    "df[\"Situação\"] = [\"Aprovado\" if nota >= 6 else \"Reprovado\" for nota in df[\"Notas\"]]\n",
    "print(\"DataFrame atualizado:\\n\",df)\n",
    "#Notas de reprovados e aprovados em uma única coluna"
   ]
  },
  {
   "cell_type": "code",
   "execution_count": null,
   "id": "391a21ac-12f1-4b93-b505-5b85de280be2",
   "metadata": {},
   "outputs": [],
   "source": []
  },
  {
   "cell_type": "code",
   "execution_count": null,
   "id": "d3a44351-549e-44da-af8e-1b74a6f3bf5a",
   "metadata": {},
   "outputs": [],
   "source": []
  },
  {
   "cell_type": "code",
   "execution_count": null,
   "id": "760af6dc-95c2-49b1-bc74-cd4832551660",
   "metadata": {},
   "outputs": [],
   "source": []
  }
 ],
 "metadata": {
  "kernelspec": {
   "display_name": "Python 3 (ipykernel)",
   "language": "python",
   "name": "python3"
  },
  "language_info": {
   "codemirror_mode": {
    "name": "ipython",
    "version": 3
   },
   "file_extension": ".py",
   "mimetype": "text/x-python",
   "name": "python",
   "nbconvert_exporter": "python",
   "pygments_lexer": "ipython3",
   "version": "3.13.7"
  }
 },
 "nbformat": 4,
 "nbformat_minor": 5
}
