#bloco 1
!pip install scikit-learn

#bloco 2
from sklearn.linear_model import LinearRegression
import numpy as np

X = np.array([[1], [2], [3], [4], [5]])
y = np.array([2,4,6,8,10])

modelo = LinearRegression()
modelo.fit(X, y)

print("Previsão:", modelo.predict([[10]]))
#bloco 3
!pip install matplotlib

#bloco 4
import matplotlib.pyplot as plt

anos = [2019, 2020, 2021, 2022, 2023]
vendas = [100, 120, 90, 150, 180]

plt.plot(anos, vendas, marker="o", color="blue")
plt.title("Vendas por Ano")
plt.xlabel("Ano")
plt.ylabel("Vendas")
plt.grid(True)
plt.show()

#bloco 5
lista = [1,2,3,4,5,6,7,8,9,10]
print(lista)
print(lista[2])

#bloco 6
lista[0] = 20
print(lista)

#bloco 7
import numpy as np

lista_num = np.array([1,2,3,4,5,6])
print(lista_num)

#bloco 8
numero_par = [ 2,4,6,8 ]
print(numero_par)

#bloco 9
par = np.array(numero_par)
print(par)

#bloco 10
arr = np.array([1,2,3,4,5,6])
print("Array:", arr)
print("Tipo:", type(arr))
print("Dimnensão:", arr.ndim)
print("Tamanho:", arr.size)

#bloco 11
a = np.array([10,20,30])

b = np.array([[1, 2, 3],[4,5,6]])

zeros = np.zeros((2,3))

ones = np.ones((3,3))

seq = np.arange(0, 10, 2)

linspace = np.linspace (0, 1, 5)

#bloco 12
a = np.array([10,20,30])

b = np.array([[1, 2, 3],[4,5,6]])

zeros = np.zeros((2,3))

ones = np.ones((3,3))

seq = np.arange(0, 10, 2)

linspace = np.linspace (0, 1, 5)

print("a:", a)
print("b", b)
print("zeros\n", zeros)
print("ones:\n", ones)
print("seq",seq)
print("linspace",np.linspace)

#bloco 13
x = np.array([1,2,3,4,5])
y = np.array(([10, 20, 30, 40, 50]))

print("Soma", x + y)
print("Multiplicação", x * y)
print("Quadrado", x ** 2)
print("Seno", np.sin(x))
print("Média", np.mean(x))
print("Desvio Padrão", np.std(x))

#bloco 14
listas_notas = [9.1, 3.5, 9.8, 6.4, 7.8 ]
notas = np.array(listas_notas)

print("Máximo", notas.max())
print("Mínimo",notas.min())
print("Média", notas.mean())
print("Posição do Menor", notas.argmin())
